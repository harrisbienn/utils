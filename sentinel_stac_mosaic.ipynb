{
 "cells": [
  {
   "cell_type": "code",
   "execution_count": 2,
   "id": "adff5997",
   "metadata": {},
   "outputs": [],
   "source": [
    "from pystac_client import Client\n",
    "import stackstac\n",
    "import rioxarray as rxr\n",
    "import xarray as xr\n",
    "import re"
   ]
  },
  {
   "cell_type": "code",
   "execution_count": 3,
   "id": "2e10be00",
   "metadata": {},
   "outputs": [],
   "source": [
    "\n",
    "\n",
    "def mosaic_sentinel2_from_stac(stac_url: str, product_id: str, bands=(\"B04\", \"B03\", \"B02\"), nodata_value=0):\n",
    "    \"\"\"\n",
    "    Creates an imagery mosaic from Sentinel-2 STAC using a given product_id (e.g., 'S2C_MSIL2A_20250416T162921_N0511_R083').\n",
    "\n",
    "    Parameters:\n",
    "        stac_url (str): URL to the STAC API or static catalog.\n",
    "        product_id (str): Sentinel-2 product ID to filter on.\n",
    "        bands (tuple): Bands to include in the mosaic (default is RGB).\n",
    "        nodata_value (int/float): Nodata value to apply for the mosaic.\n",
    "\n",
    "    Returns:\n",
    "        xarray.DataArray: Mosaic of the specified bands.\n",
    "    \"\"\"\n",
    "\n",
    "    # Parse relevant values from product ID\n",
    "    match = re.match(r\"S2[CAB]_MSIL2A_(\\d{8})T\\d+_N\\d+_R(\\d+)\", product_id)\n",
    "    if not match:\n",
    "        raise ValueError(\"Product ID format not recognized.\")\n",
    "    date_str, rel_orbit = match.groups()\n",
    "    date = f\"{date_str[:4]}-{date_str[4:6]}-{date_str[6:]}\"\n",
    "\n",
    "    # Connect to STAC\n",
    "    catalog = Client.open(stac_url)\n",
    "\n",
    "    # Search for matching items\n",
    "    search = catalog.search(\n",
    "        collections=[\"sentinel-2-l2a\"],\n",
    "        query={\"s2:datatake_id\": {\"eq\": product_id}},\n",
    "        datetime=f\"{date}T00:00:00Z/{date}T23:59:59Z\",\n",
    "        limit=100\n",
    "    )\n",
    "\n",
    "    items = list(search.items())\n",
    "    if not items:\n",
    "        raise ValueError(f\"No items found for product_id: {product_id}\")\n",
    "\n",
    "    # Load the mosaic using stackstac\n",
    "    mosaic = stackstac.stack(\n",
    "        items,\n",
    "        assets=list(bands),\n",
    "        epsg=items[0].properties.get(\"proj:epsg\"),\n",
    "        chunksize=2048,\n",
    "        resolution=10,\n",
    "        bounds_latlon=None,\n",
    "        dtype=\"uint16\",\n",
    "        fill_value=nodata_value,\n",
    "    )\n",
    "\n",
    "    # Mosaic along time axis (in case of overlap)\n",
    "    mosaic = mosaic.max(\"time\")\n",
    "\n",
    "    return mosaic\n"
   ]
  },
  {
   "cell_type": "code",
   "execution_count": 4,
   "id": "055233b6",
   "metadata": {},
   "outputs": [
    {
     "ename": "ValueError",
     "evalue": "No items found for product_id: S2C_MSIL2A_20250416T162921_N0511_R083",
     "output_type": "error",
     "traceback": [
      "\u001b[1;31m---------------------------------------------------------------------------\u001b[0m",
      "\u001b[1;31mValueError\u001b[0m                                Traceback (most recent call last)",
      "Cell \u001b[1;32mIn[4], line 1\u001b[0m\n\u001b[1;32m----> 1\u001b[0m mosaic \u001b[38;5;241m=\u001b[39m \u001b[43mmosaic_sentinel2_from_stac\u001b[49m\u001b[43m(\u001b[49m\n\u001b[0;32m      2\u001b[0m \u001b[43m    \u001b[49m\u001b[43mstac_url\u001b[49m\u001b[38;5;241;43m=\u001b[39;49m\u001b[38;5;124;43m\"\u001b[39;49m\u001b[38;5;124;43mhttps://earth-search.aws.element84.com/v1\u001b[39;49m\u001b[38;5;124;43m\"\u001b[39;49m\u001b[43m,\u001b[49m\n\u001b[0;32m      3\u001b[0m \u001b[43m    \u001b[49m\u001b[43mproduct_id\u001b[49m\u001b[38;5;241;43m=\u001b[39;49m\u001b[38;5;124;43m\"\u001b[39;49m\u001b[38;5;124;43mS2C_MSIL2A_20250416T162921_N0511_R083\u001b[39;49m\u001b[38;5;124;43m\"\u001b[39;49m\n\u001b[0;32m      4\u001b[0m \u001b[43m)\u001b[49m\n",
      "Cell \u001b[1;32mIn[3], line 35\u001b[0m, in \u001b[0;36mmosaic_sentinel2_from_stac\u001b[1;34m(stac_url, product_id, bands, nodata_value)\u001b[0m\n\u001b[0;32m     33\u001b[0m items \u001b[38;5;241m=\u001b[39m \u001b[38;5;28mlist\u001b[39m(search\u001b[38;5;241m.\u001b[39mitems())\n\u001b[0;32m     34\u001b[0m \u001b[38;5;28;01mif\u001b[39;00m \u001b[38;5;129;01mnot\u001b[39;00m items:\n\u001b[1;32m---> 35\u001b[0m     \u001b[38;5;28;01mraise\u001b[39;00m \u001b[38;5;167;01mValueError\u001b[39;00m(\u001b[38;5;124mf\u001b[39m\u001b[38;5;124m\"\u001b[39m\u001b[38;5;124mNo items found for product_id: \u001b[39m\u001b[38;5;132;01m{\u001b[39;00mproduct_id\u001b[38;5;132;01m}\u001b[39;00m\u001b[38;5;124m\"\u001b[39m)\n\u001b[0;32m     37\u001b[0m \u001b[38;5;66;03m# Load the mosaic using stackstac\u001b[39;00m\n\u001b[0;32m     38\u001b[0m mosaic \u001b[38;5;241m=\u001b[39m stackstac\u001b[38;5;241m.\u001b[39mstack(\n\u001b[0;32m     39\u001b[0m     items,\n\u001b[0;32m     40\u001b[0m     assets\u001b[38;5;241m=\u001b[39m\u001b[38;5;28mlist\u001b[39m(bands),\n\u001b[1;32m   (...)\u001b[0m\n\u001b[0;32m     46\u001b[0m     fill_value\u001b[38;5;241m=\u001b[39mnodata_value,\n\u001b[0;32m     47\u001b[0m )\n",
      "\u001b[1;31mValueError\u001b[0m: No items found for product_id: S2C_MSIL2A_20250416T162921_N0511_R083"
     ]
    }
   ],
   "source": [
    "mosaic = mosaic_sentinel2_from_stac(\n",
    "    stac_url=\"https://earth-search.aws.element84.com/v1\",\n",
    "    product_id=\"S2C_MSIL2A_20250416T162921_N0511_R083\"\n",
    ")\n",
    "\n"
   ]
  },
  {
   "cell_type": "code",
   "execution_count": null,
   "id": "cd32f554",
   "metadata": {},
   "outputs": [],
   "source": [
    "# Plot RGB\n",
    "rgb = mosaic.sel(band=[\"B04\", \"B03\", \"B02\"]).transpose(\"band\", \"y\", \"x\")\n",
    "rgb_plot = (rgb / 3000).clip(0, 1)  # Simple stretch\n",
    "rgb_plot.plot.imshow(figsize=(10, 10))"
   ]
  }
 ],
 "metadata": {
  "kernelspec": {
   "display_name": "geo",
   "language": "python",
   "name": "python3"
  },
  "language_info": {
   "codemirror_mode": {
    "name": "ipython",
    "version": 3
   },
   "file_extension": ".py",
   "mimetype": "text/x-python",
   "name": "python",
   "nbconvert_exporter": "python",
   "pygments_lexer": "ipython3",
   "version": "3.12.6"
  }
 },
 "nbformat": 4,
 "nbformat_minor": 5
}
